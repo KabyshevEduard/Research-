{
 "cells": [
  {
   "cell_type": "code",
   "execution_count": 1,
   "id": "cfb0fddd",
   "metadata": {},
   "outputs": [],
   "source": [
    "import tensorflow as tf\n",
    "import matplotlib.pyplot as plt\n",
    "import seaborn as sns\n",
    "import pandas as pd\n",
    "from scipy import stats\n",
    "from sklearn import metrics\n",
    "from sklearn.model_selection import GridSearchCV\n",
    "from sklearn.preprocessing import MinMaxScaler\n",
    "import numpy as np"
   ]
  },
  {
   "cell_type": "code",
   "execution_count": 2,
   "id": "db2f458f",
   "metadata": {},
   "outputs": [],
   "source": [
    "df = pd.read_excel('C:/Users/Эдуард/Desktop/задание кафедры/train.xlsx')"
   ]
  },
  {
   "cell_type": "code",
   "execution_count": 3,
   "id": "01b6be50",
   "metadata": {},
   "outputs": [],
   "source": [
    "df_test = pd.read_excel('C:/Users/Эдуард/Desktop/задание кафедры/test.xlsx')"
   ]
  },
  {
   "cell_type": "code",
   "execution_count": 17,
   "id": "651b2312",
   "metadata": {},
   "outputs": [
    {
     "data": {
      "text/html": [
       "<div>\n",
       "<style scoped>\n",
       "    .dataframe tbody tr th:only-of-type {\n",
       "        vertical-align: middle;\n",
       "    }\n",
       "\n",
       "    .dataframe tbody tr th {\n",
       "        vertical-align: top;\n",
       "    }\n",
       "\n",
       "    .dataframe thead th {\n",
       "        text-align: right;\n",
       "    }\n",
       "</style>\n",
       "<table border=\"1\" class=\"dataframe\">\n",
       "  <thead>\n",
       "    <tr style=\"text-align: right;\">\n",
       "      <th></th>\n",
       "      <th>Materia</th>\n",
       "      <th>Youngs modulus, GPa</th>\n",
       "      <th>Ultimate strength, GPa</th>\n",
       "      <th>Yield strength, GPa</th>\n",
       "      <th>Hardness, HB</th>\n",
       "      <th>Melting temperature, K</th>\n",
       "      <th>Density, kg/dm^3</th>\n",
       "      <th>Capacity, J/kg*K</th>\n",
       "    </tr>\n",
       "  </thead>\n",
       "  <tbody>\n",
       "    <tr>\n",
       "      <th>0</th>\n",
       "      <td>022Cr19Ni10</td>\n",
       "      <td>191.55</td>\n",
       "      <td>0.913</td>\n",
       "      <td>0.230</td>\n",
       "      <td>175.0</td>\n",
       "      <td>1426.5</td>\n",
       "      <td>7.930</td>\n",
       "      <td>490.000</td>\n",
       "    </tr>\n",
       "    <tr>\n",
       "      <th>1</th>\n",
       "      <td>1.0722</td>\n",
       "      <td>200.00</td>\n",
       "      <td>0.565</td>\n",
       "      <td>0.235</td>\n",
       "      <td>130.0</td>\n",
       "      <td>1520.0</td>\n",
       "      <td>7.850</td>\n",
       "      <td>440.000</td>\n",
       "    </tr>\n",
       "    <tr>\n",
       "      <th>2</th>\n",
       "      <td>10SPb20</td>\n",
       "      <td>200.00</td>\n",
       "      <td>0.560</td>\n",
       "      <td>0.235</td>\n",
       "      <td>130.5</td>\n",
       "      <td>1520.0</td>\n",
       "      <td>7.850</td>\n",
       "      <td>440.000</td>\n",
       "    </tr>\n",
       "    <tr>\n",
       "      <th>3</th>\n",
       "      <td>11SMnPb30</td>\n",
       "      <td>205.00</td>\n",
       "      <td>0.590</td>\n",
       "      <td>0.333</td>\n",
       "      <td>173.5</td>\n",
       "      <td>1520.0</td>\n",
       "      <td>7.825</td>\n",
       "      <td>450.000</td>\n",
       "    </tr>\n",
       "    <tr>\n",
       "      <th>4</th>\n",
       "      <td>17-4 PH</td>\n",
       "      <td>168.00</td>\n",
       "      <td>0.977</td>\n",
       "      <td>0.848</td>\n",
       "      <td>229.0</td>\n",
       "      <td>1425.0</td>\n",
       "      <td>7.500</td>\n",
       "      <td>460.548</td>\n",
       "    </tr>\n",
       "  </tbody>\n",
       "</table>\n",
       "</div>"
      ],
      "text/plain": [
       "       Materia  Youngs modulus, GPa   Ultimate strength, GPa  \\\n",
       "0  022Cr19Ni10                191.55                   0.913   \n",
       "1       1.0722                200.00                   0.565   \n",
       "2     10SPb20                 200.00                   0.560   \n",
       "3    11SMnPb30                205.00                   0.590   \n",
       "4      17-4 PH                168.00                   0.977   \n",
       "\n",
       "   Yield strength, GPa  Hardness, HB  Melting temperature, K  \\\n",
       "0                0.230         175.0                  1426.5   \n",
       "1                0.235         130.0                  1520.0   \n",
       "2                0.235         130.5                  1520.0   \n",
       "3                0.333         173.5                  1520.0   \n",
       "4                0.848         229.0                  1425.0   \n",
       "\n",
       "   Density, kg/dm^3  Capacity, J/kg*K  \n",
       "0             7.930           490.000  \n",
       "1             7.850           440.000  \n",
       "2             7.850           440.000  \n",
       "3             7.825           450.000  \n",
       "4             7.500           460.548  "
      ]
     },
     "execution_count": 17,
     "metadata": {},
     "output_type": "execute_result"
    }
   ],
   "source": [
    "df.head()"
   ]
  },
  {
   "cell_type": "code",
   "execution_count": 25,
   "id": "2fe7a2de",
   "metadata": {
    "scrolled": true
   },
   "outputs": [
    {
     "data": {
      "text/plain": [
       "<AxesSubplot:>"
      ]
     },
     "execution_count": 25,
     "metadata": {},
     "output_type": "execute_result"
    },
    {
     "data": {
      "image/png": "[encoded data removed]",
      "text/plain": [
       "<Figure size 500x300 with 2 Axes>"
      ]
     },
     "metadata": {},
     "output_type": "display_data"
    }
   ],
   "source": [
    "plt.figure(figsize=(5, 3))\n",
    "sns.heatmap(df.corr(), cmap='Blues', annot=True, annot_kws={'fontsize': 8})"
   ]
  },
  {
   "cell_type": "code",
   "execution_count": 6,
   "id": "c3bb3171",
   "metadata": {},
   "outputs": [],
   "source": [
    "df['Density, kg/dm^3'] = df['Density, kg/dm^3'].fillna(df['Density, kg/dm^3'].median())\n",
    "df['Capacity, J/kg*K'] = df['Capacity, J/kg*K'].fillna(df['Capacity, J/kg*K'].median())\n",
    "df_test['Density, kg/dm^3'] = df_test['Density, kg/dm^3'].fillna(df_test['Density, kg/dm^3'].median())\n",
    "df_test['Capacity, J/kg*K'] = df_test['Capacity, J/kg*K'].fillna(df_test['Capacity, J/kg*K'].median())"
   ]
  },
  {
   "cell_type": "code",
   "execution_count": 7,
   "id": "c3dd3350",
   "metadata": {},
   "outputs": [],
   "source": [
    "train_x = df.drop(['Hardness, HB', 'Materia', 'Density, kg/dm^3', 'Ultimate strength, GPa', 'Melting temperature, K'], axis=1)\n",
    "train_y = df['Hardness, HB']\n",
    "test_y = df_test['Hardness, HB']\n",
    "test_x = df_test.drop(['Hardness, HB', 'Materia', 'Density, kg/dm^3', 'Ultimate strength, GPa', 'Melting temperature, K'], axis=1)"
   ]
  },
  {
   "cell_type": "code",
   "execution_count": 8,
   "id": "8dc12282",
   "metadata": {},
   "outputs": [],
   "source": [
    "scaler = MinMaxScaler()\n",
    "x_train_normilized = scaler.fit_transform(train_x)\n",
    "x_test_normilized = scaler.transform(test_x)\n",
    "y_train_normilized = scaler.fit_transform(train_y.values.reshape(-1, 1))\n",
    "y_test_normilized = scaler.transform(test_y.values.reshape(-1, 1))"
   ]
  },
  {
   "cell_type": "markdown",
   "id": "6492581d",
   "metadata": {},
   "source": [
    "# Модель и обучение"
   ]
  },
  {
   "cell_type": "code",
   "execution_count": 9,
   "id": "023a896f",
   "metadata": {},
   "outputs": [
    {
     "data": {
      "text/plain": [
       "(124, 3)"
      ]
     },
     "execution_count": 9,
     "metadata": {},
     "output_type": "execute_result"
    }
   ],
   "source": [
    "train_x.shape"
   ]
  },
  {
   "cell_type": "code",
   "execution_count": 10,
   "id": "ab6ffdc7",
   "metadata": {},
   "outputs": [],
   "source": [
    "model = tf.keras.models.Sequential([\n",
    "    tf.keras.layers.Dense(20, input_dim=x_train_normilized.shape[1], activation='relu'),\n",
    "    tf.keras.layers.Dense(10, activation='relu'),\n",
    "    tf.keras.layers.Dense(10, activation='relu'),\n",
    "    tf.keras.layers.Dense(1)\n",
    "])\n",
    "model.compile(optimizer='adam', loss='mean_squared_error', metrics=['mean_absolute_error'])"
   ]
  },
  {
   "cell_type": "code",
   "execution_count": 11,
   "id": "0cd5b766",
   "metadata": {},
   "outputs": [
    {
     "name": "stdout",
     "output_type": "stream",
     "text": [
      "Epoch 1/200\n",
      "124/124 [==============================] - 1s 3ms/step - loss: 0.1124 - mean_absolute_error: 0.2455 - val_loss: 0.0171 - val_mean_absolute_error: 0.1035\n",
      "Epoch 2/200\n",
      "124/124 [==============================] - 0s 2ms/step - loss: 0.0260 - mean_absolute_error: 0.1206 - val_loss: 0.0267 - val_mean_absolute_error: 0.1333\n",
      "Epoch 3/200\n",
      "124/124 [==============================] - 0s 2ms/step - loss: 0.0243 - mean_absolute_error: 0.1160 - val_loss: 0.0220 - val_mean_absolute_error: 0.1087\n",
      "Epoch 4/200\n",
      "124/124 [==============================] - 0s 1ms/step - loss: 0.0216 - mean_absolute_error: 0.1086 - val_loss: 0.0232 - val_mean_absolute_error: 0.1128\n",
      "Epoch 5/200\n",
      "124/124 [==============================] - 0s 2ms/step - loss: 0.0226 - mean_absolute_error: 0.1138 - val_loss: 0.0149 - val_mean_absolute_error: 0.0827\n",
      "Epoch 6/200\n",
      "124/124 [==============================] - 0s 2ms/step - loss: 0.0210 - mean_absolute_error: 0.1036 - val_loss: 0.0216 - val_mean_absolute_error: 0.1006\n",
      "Epoch 7/200\n",
      "124/124 [==============================] - 0s 2ms/step - loss: 0.0205 - mean_absolute_error: 0.1055 - val_loss: 0.0161 - val_mean_absolute_error: 0.0818\n",
      "Epoch 8/200\n",
      "124/124 [==============================] - 0s 1ms/step - loss: 0.0191 - mean_absolute_error: 0.0987 - val_loss: 0.0194 - val_mean_absolute_error: 0.0920\n",
      "Epoch 9/200\n",
      "124/124 [==============================] - 0s 1ms/step - loss: 0.0195 - mean_absolute_error: 0.1001 - val_loss: 0.0179 - val_mean_absolute_error: 0.0845\n",
      "Epoch 10/200\n",
      "124/124 [==============================] - 0s 1ms/step - loss: 0.0202 - mean_absolute_error: 0.1051 - val_loss: 0.0169 - val_mean_absolute_error: 0.0860\n",
      "Epoch 11/200\n",
      "124/124 [==============================] - 0s 2ms/step - loss: 0.0203 - mean_absolute_error: 0.1026 - val_loss: 0.0168 - val_mean_absolute_error: 0.0864\n",
      "Epoch 12/200\n",
      "124/124 [==============================] - 0s 2ms/step - loss: 0.0199 - mean_absolute_error: 0.1025 - val_loss: 0.0235 - val_mean_absolute_error: 0.1018\n",
      "Epoch 13/200\n",
      "124/124 [==============================] - 0s 1ms/step - loss: 0.0196 - mean_absolute_error: 0.1020 - val_loss: 0.0209 - val_mean_absolute_error: 0.0936\n",
      "Epoch 14/200\n",
      "124/124 [==============================] - 0s 1ms/step - loss: 0.0196 - mean_absolute_error: 0.1020 - val_loss: 0.0132 - val_mean_absolute_error: 0.0844\n",
      "Epoch 15/200\n",
      "124/124 [==============================] - 0s 1ms/step - loss: 0.0199 - mean_absolute_error: 0.1047 - val_loss: 0.0169 - val_mean_absolute_error: 0.0907\n",
      "Epoch 16/200\n",
      "124/124 [==============================] - 0s 2ms/step - loss: 0.0192 - mean_absolute_error: 0.1010 - val_loss: 0.0157 - val_mean_absolute_error: 0.0859\n",
      "Epoch 17/200\n",
      "124/124 [==============================] - 0s 1ms/step - loss: 0.0200 - mean_absolute_error: 0.1000 - val_loss: 0.0194 - val_mean_absolute_error: 0.0890\n",
      "Epoch 18/200\n",
      "124/124 [==============================] - 0s 1ms/step - loss: 0.0202 - mean_absolute_error: 0.1031 - val_loss: 0.0217 - val_mean_absolute_error: 0.1078\n",
      "Epoch 19/200\n",
      "124/124 [==============================] - 0s 1ms/step - loss: 0.0182 - mean_absolute_error: 0.0988 - val_loss: 0.0161 - val_mean_absolute_error: 0.0937\n",
      "Epoch 20/200\n",
      "124/124 [==============================] - 0s 2ms/step - loss: 0.0188 - mean_absolute_error: 0.1024 - val_loss: 0.0184 - val_mean_absolute_error: 0.0870\n",
      "Epoch 21/200\n",
      "124/124 [==============================] - 0s 2ms/step - loss: 0.0186 - mean_absolute_error: 0.0988 - val_loss: 0.0220 - val_mean_absolute_error: 0.0969\n",
      "Epoch 22/200\n",
      "124/124 [==============================] - 0s 1ms/step - loss: 0.0195 - mean_absolute_error: 0.1029 - val_loss: 0.0171 - val_mean_absolute_error: 0.0949\n",
      "Epoch 23/200\n",
      "124/124 [==============================] - 0s 1ms/step - loss: 0.0183 - mean_absolute_error: 0.1006 - val_loss: 0.0253 - val_mean_absolute_error: 0.0992\n",
      "Epoch 24/200\n",
      "124/124 [==============================] - 0s 1ms/step - loss: 0.0206 - mean_absolute_error: 0.1079 - val_loss: 0.0222 - val_mean_absolute_error: 0.1073\n",
      "Epoch 25/200\n",
      "124/124 [==============================] - 0s 1ms/step - loss: 0.0185 - mean_absolute_error: 0.1000 - val_loss: 0.0163 - val_mean_absolute_error: 0.0831\n",
      "Epoch 26/200\n",
      "124/124 [==============================] - 0s 2ms/step - loss: 0.0187 - mean_absolute_error: 0.1019 - val_loss: 0.0208 - val_mean_absolute_error: 0.1014\n",
      "Epoch 27/200\n",
      "124/124 [==============================] - 0s 1ms/step - loss: 0.0186 - mean_absolute_error: 0.1032 - val_loss: 0.0214 - val_mean_absolute_error: 0.1029\n",
      "Epoch 28/200\n",
      "124/124 [==============================] - 0s 1ms/step - loss: 0.0190 - mean_absolute_error: 0.0998 - val_loss: 0.0182 - val_mean_absolute_error: 0.0885\n",
      "Epoch 29/200\n",
      "124/124 [==============================] - 0s 2ms/step - loss: 0.0180 - mean_absolute_error: 0.0988 - val_loss: 0.0185 - val_mean_absolute_error: 0.0925\n",
      "Epoch 30/200\n",
      "124/124 [==============================] - 0s 1ms/step - loss: 0.0177 - mean_absolute_error: 0.0969 - val_loss: 0.0113 - val_mean_absolute_error: 0.0783\n",
      "Epoch 31/200\n",
      "124/124 [==============================] - 0s 1ms/step - loss: 0.0206 - mean_absolute_error: 0.1055 - val_loss: 0.0207 - val_mean_absolute_error: 0.1054\n",
      "Epoch 32/200\n",
      "124/124 [==============================] - 0s 2ms/step - loss: 0.0188 - mean_absolute_error: 0.1019 - val_loss: 0.0175 - val_mean_absolute_error: 0.0914\n",
      "Epoch 33/200\n",
      "124/124 [==============================] - 0s 1ms/step - loss: 0.0177 - mean_absolute_error: 0.0990 - val_loss: 0.0188 - val_mean_absolute_error: 0.0891\n",
      "Epoch 34/200\n",
      "124/124 [==============================] - 0s 1ms/step - loss: 0.0183 - mean_absolute_error: 0.0990 - val_loss: 0.0142 - val_mean_absolute_error: 0.0922\n",
      "Epoch 35/200\n",
      "124/124 [==============================] - 0s 1ms/step - loss: 0.0185 - mean_absolute_error: 0.1038 - val_loss: 0.0149 - val_mean_absolute_error: 0.0888\n",
      "Epoch 36/200\n",
      "124/124 [==============================] - 0s 2ms/step - loss: 0.0188 - mean_absolute_error: 0.1040 - val_loss: 0.0136 - val_mean_absolute_error: 0.0872\n",
      "Epoch 37/200\n",
      "124/124 [==============================] - 0s 1ms/step - loss: 0.0188 - mean_absolute_error: 0.1013 - val_loss: 0.0144 - val_mean_absolute_error: 0.0785\n",
      "Epoch 38/200\n",
      "124/124 [==============================] - 0s 2ms/step - loss: 0.0178 - mean_absolute_error: 0.0979 - val_loss: 0.0148 - val_mean_absolute_error: 0.0830\n",
      "Epoch 39/200\n",
      "124/124 [==============================] - 0s 2ms/step - loss: 0.0180 - mean_absolute_error: 0.0995 - val_loss: 0.0176 - val_mean_absolute_error: 0.0927\n",
      "Epoch 40/200\n",
      "124/124 [==============================] - 0s 2ms/step - loss: 0.0180 - mean_absolute_error: 0.1002 - val_loss: 0.0152 - val_mean_absolute_error: 0.0824\n",
      "Epoch 41/200\n",
      "124/124 [==============================] - 0s 1ms/step - loss: 0.0180 - mean_absolute_error: 0.0983 - val_loss: 0.0148 - val_mean_absolute_error: 0.0802\n",
      "Epoch 42/200\n",
      "124/124 [==============================] - 0s 2ms/step - loss: 0.0178 - mean_absolute_error: 0.0994 - val_loss: 0.0190 - val_mean_absolute_error: 0.0986\n",
      "Epoch 43/200\n",
      "124/124 [==============================] - 0s 1ms/step - loss: 0.0188 - mean_absolute_error: 0.1002 - val_loss: 0.0154 - val_mean_absolute_error: 0.0809\n",
      "Epoch 44/200\n",
      "124/124 [==============================] - 0s 1ms/step - loss: 0.0180 - mean_absolute_error: 0.1001 - val_loss: 0.0146 - val_mean_absolute_error: 0.0836\n",
      "Epoch 45/200\n",
      "124/124 [==============================] - 0s 1ms/step - loss: 0.0172 - mean_absolute_error: 0.0971 - val_loss: 0.0083 - val_mean_absolute_error: 0.0652\n",
      "Epoch 46/200\n",
      "124/124 [==============================] - 0s 1ms/step - loss: 0.0179 - mean_absolute_error: 0.0980 - val_loss: 0.0196 - val_mean_absolute_error: 0.0887\n",
      "Epoch 47/200\n",
      "124/124 [==============================] - 0s 1ms/step - loss: 0.0176 - mean_absolute_error: 0.0978 - val_loss: 0.0135 - val_mean_absolute_error: 0.0783\n",
      "Epoch 48/200\n",
      "124/124 [==============================] - 0s 1ms/step - loss: 0.0165 - mean_absolute_error: 0.0976 - val_loss: 0.0217 - val_mean_absolute_error: 0.1086\n",
      "Epoch 49/200\n",
      "124/124 [==============================] - 0s 1ms/step - loss: 0.0177 - mean_absolute_error: 0.0995 - val_loss: 0.0189 - val_mean_absolute_error: 0.0916\n",
      "Epoch 50/200\n"
     ]
    },
    {
     "name": "stdout",
     "output_type": "stream",
     "text": [
      "124/124 [==============================] - 0s 1ms/step - loss: 0.0180 - mean_absolute_error: 0.0995 - val_loss: 0.0150 - val_mean_absolute_error: 0.0804\n",
      "Epoch 51/200\n",
      "124/124 [==============================] - 0s 1ms/step - loss: 0.0173 - mean_absolute_error: 0.0971 - val_loss: 0.0184 - val_mean_absolute_error: 0.1008\n",
      "Epoch 52/200\n",
      "124/124 [==============================] - 0s 1ms/step - loss: 0.0172 - mean_absolute_error: 0.0957 - val_loss: 0.0160 - val_mean_absolute_error: 0.0885\n",
      "Epoch 53/200\n",
      "124/124 [==============================] - 0s 1ms/step - loss: 0.0175 - mean_absolute_error: 0.0980 - val_loss: 0.0100 - val_mean_absolute_error: 0.0672\n",
      "Epoch 54/200\n",
      "124/124 [==============================] - 0s 1ms/step - loss: 0.0194 - mean_absolute_error: 0.1021 - val_loss: 0.0182 - val_mean_absolute_error: 0.0961\n",
      "Epoch 55/200\n",
      "124/124 [==============================] - 0s 1ms/step - loss: 0.0184 - mean_absolute_error: 0.1009 - val_loss: 0.0105 - val_mean_absolute_error: 0.0694\n",
      "Epoch 56/200\n",
      "124/124 [==============================] - 0s 1ms/step - loss: 0.0172 - mean_absolute_error: 0.0982 - val_loss: 0.0147 - val_mean_absolute_error: 0.0920\n",
      "Epoch 57/200\n",
      "124/124 [==============================] - 0s 1ms/step - loss: 0.0177 - mean_absolute_error: 0.1023 - val_loss: 0.0155 - val_mean_absolute_error: 0.0820\n",
      "Epoch 58/200\n",
      "124/124 [==============================] - 0s 1ms/step - loss: 0.0172 - mean_absolute_error: 0.0967 - val_loss: 0.0131 - val_mean_absolute_error: 0.0767\n",
      "Epoch 59/200\n",
      "124/124 [==============================] - 0s 1ms/step - loss: 0.0174 - mean_absolute_error: 0.0991 - val_loss: 0.0142 - val_mean_absolute_error: 0.0823\n",
      "Epoch 60/200\n",
      "124/124 [==============================] - 0s 1ms/step - loss: 0.0170 - mean_absolute_error: 0.0953 - val_loss: 0.0146 - val_mean_absolute_error: 0.0822\n",
      "Epoch 61/200\n",
      "124/124 [==============================] - 0s 1ms/step - loss: 0.0172 - mean_absolute_error: 0.0953 - val_loss: 0.0174 - val_mean_absolute_error: 0.0867\n",
      "Epoch 62/200\n",
      "124/124 [==============================] - 0s 1ms/step - loss: 0.0168 - mean_absolute_error: 0.0956 - val_loss: 0.0089 - val_mean_absolute_error: 0.0660\n",
      "Epoch 63/200\n",
      "124/124 [==============================] - 0s 1ms/step - loss: 0.0174 - mean_absolute_error: 0.0970 - val_loss: 0.0157 - val_mean_absolute_error: 0.0876\n",
      "Epoch 64/200\n",
      "124/124 [==============================] - 0s 1ms/step - loss: 0.0169 - mean_absolute_error: 0.0969 - val_loss: 0.0171 - val_mean_absolute_error: 0.0955\n",
      "Epoch 65/200\n",
      "124/124 [==============================] - 0s 1ms/step - loss: 0.0170 - mean_absolute_error: 0.0969 - val_loss: 0.0134 - val_mean_absolute_error: 0.0757\n",
      "Epoch 66/200\n",
      "124/124 [==============================] - 0s 1ms/step - loss: 0.0171 - mean_absolute_error: 0.0986 - val_loss: 0.0123 - val_mean_absolute_error: 0.0755\n",
      "Epoch 67/200\n",
      "124/124 [==============================] - 0s 1ms/step - loss: 0.0166 - mean_absolute_error: 0.0969 - val_loss: 0.0130 - val_mean_absolute_error: 0.0819\n",
      "Epoch 68/200\n",
      "124/124 [==============================] - 0s 1ms/step - loss: 0.0161 - mean_absolute_error: 0.0922 - val_loss: 0.0112 - val_mean_absolute_error: 0.0736\n",
      "Epoch 69/200\n",
      "124/124 [==============================] - 0s 1ms/step - loss: 0.0173 - mean_absolute_error: 0.0949 - val_loss: 0.0210 - val_mean_absolute_error: 0.0885\n",
      "Epoch 70/200\n",
      "124/124 [==============================] - 0s 1ms/step - loss: 0.0170 - mean_absolute_error: 0.1009 - val_loss: 0.0098 - val_mean_absolute_error: 0.0785\n",
      "Epoch 71/200\n",
      "124/124 [==============================] - 0s 1ms/step - loss: 0.0176 - mean_absolute_error: 0.0975 - val_loss: 0.0105 - val_mean_absolute_error: 0.0641\n",
      "Epoch 72/200\n",
      "124/124 [==============================] - 0s 1ms/step - loss: 0.0172 - mean_absolute_error: 0.0965 - val_loss: 0.0107 - val_mean_absolute_error: 0.0669\n",
      "Epoch 73/200\n",
      "124/124 [==============================] - 0s 1ms/step - loss: 0.0165 - mean_absolute_error: 0.0951 - val_loss: 0.0123 - val_mean_absolute_error: 0.0724\n",
      "Epoch 74/200\n",
      "124/124 [==============================] - 0s 2ms/step - loss: 0.0159 - mean_absolute_error: 0.0939 - val_loss: 0.0133 - val_mean_absolute_error: 0.0817\n",
      "Epoch 75/200\n",
      "124/124 [==============================] - 0s 1ms/step - loss: 0.0167 - mean_absolute_error: 0.0938 - val_loss: 0.0125 - val_mean_absolute_error: 0.0722\n",
      "Epoch 76/200\n",
      "124/124 [==============================] - 0s 1ms/step - loss: 0.0155 - mean_absolute_error: 0.0910 - val_loss: 0.0111 - val_mean_absolute_error: 0.0673\n",
      "Epoch 77/200\n",
      "124/124 [==============================] - 0s 1ms/step - loss: 0.0159 - mean_absolute_error: 0.0913 - val_loss: 0.0113 - val_mean_absolute_error: 0.0693\n",
      "Epoch 78/200\n",
      "124/124 [==============================] - 0s 1ms/step - loss: 0.0161 - mean_absolute_error: 0.0946 - val_loss: 0.0110 - val_mean_absolute_error: 0.0661\n",
      "Epoch 79/200\n",
      "124/124 [==============================] - 0s 1ms/step - loss: 0.0159 - mean_absolute_error: 0.0924 - val_loss: 0.0107 - val_mean_absolute_error: 0.0707\n",
      "Epoch 80/200\n",
      "124/124 [==============================] - 0s 1ms/step - loss: 0.0150 - mean_absolute_error: 0.0919 - val_loss: 0.0144 - val_mean_absolute_error: 0.0802\n",
      "Epoch 81/200\n",
      "124/124 [==============================] - 0s 1ms/step - loss: 0.0156 - mean_absolute_error: 0.0917 - val_loss: 0.0139 - val_mean_absolute_error: 0.0780\n",
      "Epoch 82/200\n",
      "124/124 [==============================] - 0s 1ms/step - loss: 0.0158 - mean_absolute_error: 0.0913 - val_loss: 0.0108 - val_mean_absolute_error: 0.0668\n",
      "Epoch 83/200\n",
      "124/124 [==============================] - 0s 1ms/step - loss: 0.0151 - mean_absolute_error: 0.0910 - val_loss: 0.0099 - val_mean_absolute_error: 0.0652\n",
      "Epoch 84/200\n",
      "124/124 [==============================] - 0s 1ms/step - loss: 0.0147 - mean_absolute_error: 0.0888 - val_loss: 0.0141 - val_mean_absolute_error: 0.0836\n",
      "Epoch 85/200\n",
      "124/124 [==============================] - 0s 1ms/step - loss: 0.0148 - mean_absolute_error: 0.0899 - val_loss: 0.0142 - val_mean_absolute_error: 0.0811\n",
      "Epoch 86/200\n",
      "124/124 [==============================] - 0s 1ms/step - loss: 0.0150 - mean_absolute_error: 0.0925 - val_loss: 0.0148 - val_mean_absolute_error: 0.0730\n",
      "Epoch 87/200\n",
      "124/124 [==============================] - 0s 1ms/step - loss: 0.0151 - mean_absolute_error: 0.0915 - val_loss: 0.0105 - val_mean_absolute_error: 0.0732\n",
      "Epoch 88/200\n",
      "124/124 [==============================] - 0s 1ms/step - loss: 0.0149 - mean_absolute_error: 0.0900 - val_loss: 0.0169 - val_mean_absolute_error: 0.0842\n",
      "Epoch 89/200\n",
      "124/124 [==============================] - 0s 1ms/step - loss: 0.0155 - mean_absolute_error: 0.0914 - val_loss: 0.0145 - val_mean_absolute_error: 0.0802\n",
      "Epoch 90/200\n",
      "124/124 [==============================] - 0s 1ms/step - loss: 0.0152 - mean_absolute_error: 0.0921 - val_loss: 0.0150 - val_mean_absolute_error: 0.0793\n",
      "Epoch 91/200\n",
      "124/124 [==============================] - 0s 1ms/step - loss: 0.0159 - mean_absolute_error: 0.0941 - val_loss: 0.0134 - val_mean_absolute_error: 0.0781\n",
      "Epoch 92/200\n",
      "124/124 [==============================] - 0s 1ms/step - loss: 0.0155 - mean_absolute_error: 0.0932 - val_loss: 0.0144 - val_mean_absolute_error: 0.0838\n",
      "Epoch 93/200\n",
      "124/124 [==============================] - 0s 2ms/step - loss: 0.0149 - mean_absolute_error: 0.0904 - val_loss: 0.0138 - val_mean_absolute_error: 0.0844\n",
      "Epoch 94/200\n",
      "124/124 [==============================] - 0s 1ms/step - loss: 0.0161 - mean_absolute_error: 0.0944 - val_loss: 0.0128 - val_mean_absolute_error: 0.0701\n",
      "Epoch 95/200\n",
      "124/124 [==============================] - 0s 1ms/step - loss: 0.0166 - mean_absolute_error: 0.0961 - val_loss: 0.0118 - val_mean_absolute_error: 0.0690\n",
      "Epoch 96/200\n",
      "124/124 [==============================] - 0s 1ms/step - loss: 0.0147 - mean_absolute_error: 0.0913 - val_loss: 0.0140 - val_mean_absolute_error: 0.0721\n",
      "Epoch 97/200\n",
      "124/124 [==============================] - 0s 1ms/step - loss: 0.0152 - mean_absolute_error: 0.0903 - val_loss: 0.0119 - val_mean_absolute_error: 0.0705\n",
      "Epoch 98/200\n",
      "124/124 [==============================] - 0s 1ms/step - loss: 0.0146 - mean_absolute_error: 0.0901 - val_loss: 0.0137 - val_mean_absolute_error: 0.0786\n",
      "Epoch 99/200\n"
     ]
    },
    {
     "name": "stdout",
     "output_type": "stream",
     "text": [
      "124/124 [==============================] - 0s 1ms/step - loss: 0.0145 - mean_absolute_error: 0.0908 - val_loss: 0.0131 - val_mean_absolute_error: 0.0691\n",
      "Epoch 100/200\n",
      "124/124 [==============================] - 0s 1ms/step - loss: 0.0155 - mean_absolute_error: 0.0907 - val_loss: 0.0130 - val_mean_absolute_error: 0.0738\n",
      "Epoch 101/200\n",
      "124/124 [==============================] - 0s 1ms/step - loss: 0.0146 - mean_absolute_error: 0.0899 - val_loss: 0.0144 - val_mean_absolute_error: 0.0831\n",
      "Epoch 102/200\n",
      "124/124 [==============================] - 0s 1ms/step - loss: 0.0153 - mean_absolute_error: 0.0895 - val_loss: 0.0107 - val_mean_absolute_error: 0.0662\n",
      "Epoch 103/200\n",
      "124/124 [==============================] - 0s 2ms/step - loss: 0.0151 - mean_absolute_error: 0.0922 - val_loss: 0.0096 - val_mean_absolute_error: 0.0675\n",
      "Epoch 104/200\n",
      "124/124 [==============================] - 0s 1ms/step - loss: 0.0156 - mean_absolute_error: 0.0923 - val_loss: 0.0115 - val_mean_absolute_error: 0.0673\n",
      "Epoch 105/200\n",
      "124/124 [==============================] - 0s 1ms/step - loss: 0.0146 - mean_absolute_error: 0.0915 - val_loss: 0.0096 - val_mean_absolute_error: 0.0658\n",
      "Epoch 106/200\n",
      "124/124 [==============================] - 0s 1ms/step - loss: 0.0144 - mean_absolute_error: 0.0889 - val_loss: 0.0106 - val_mean_absolute_error: 0.0685\n",
      "Epoch 107/200\n",
      "124/124 [==============================] - 0s 1ms/step - loss: 0.0144 - mean_absolute_error: 0.0905 - val_loss: 0.0111 - val_mean_absolute_error: 0.0712\n",
      "Epoch 108/200\n",
      "124/124 [==============================] - 0s 1ms/step - loss: 0.0146 - mean_absolute_error: 0.0898 - val_loss: 0.0159 - val_mean_absolute_error: 0.0798\n",
      "Epoch 109/200\n",
      "124/124 [==============================] - 0s 1ms/step - loss: 0.0145 - mean_absolute_error: 0.0905 - val_loss: 0.0178 - val_mean_absolute_error: 0.0778\n",
      "Epoch 110/200\n",
      "124/124 [==============================] - 0s 1ms/step - loss: 0.0149 - mean_absolute_error: 0.0878 - val_loss: 0.0120 - val_mean_absolute_error: 0.0706\n",
      "Epoch 111/200\n",
      "124/124 [==============================] - 0s 1ms/step - loss: 0.0154 - mean_absolute_error: 0.0897 - val_loss: 0.0111 - val_mean_absolute_error: 0.0667\n",
      "Epoch 112/200\n",
      "124/124 [==============================] - 0s 1ms/step - loss: 0.0135 - mean_absolute_error: 0.0842 - val_loss: 0.0136 - val_mean_absolute_error: 0.0701\n",
      "Epoch 113/200\n",
      "124/124 [==============================] - 0s 1ms/step - loss: 0.0144 - mean_absolute_error: 0.0886 - val_loss: 0.0105 - val_mean_absolute_error: 0.0651\n",
      "Epoch 114/200\n",
      "124/124 [==============================] - 0s 1ms/step - loss: 0.0146 - mean_absolute_error: 0.0880 - val_loss: 0.0107 - val_mean_absolute_error: 0.0657\n",
      "Epoch 115/200\n",
      "124/124 [==============================] - 0s 1ms/step - loss: 0.0134 - mean_absolute_error: 0.0896 - val_loss: 0.0156 - val_mean_absolute_error: 0.0821\n",
      "Epoch 116/200\n",
      "124/124 [==============================] - 0s 1ms/step - loss: 0.0150 - mean_absolute_error: 0.0926 - val_loss: 0.0130 - val_mean_absolute_error: 0.0686\n",
      "Epoch 117/200\n",
      "124/124 [==============================] - 0s 1ms/step - loss: 0.0138 - mean_absolute_error: 0.0882 - val_loss: 0.0118 - val_mean_absolute_error: 0.0697\n",
      "Epoch 118/200\n",
      "124/124 [==============================] - 0s 1ms/step - loss: 0.0141 - mean_absolute_error: 0.0889 - val_loss: 0.0147 - val_mean_absolute_error: 0.0711\n",
      "Epoch 119/200\n",
      "124/124 [==============================] - 0s 1ms/step - loss: 0.0144 - mean_absolute_error: 0.0908 - val_loss: 0.0144 - val_mean_absolute_error: 0.0721\n",
      "Epoch 120/200\n",
      "124/124 [==============================] - 0s 1ms/step - loss: 0.0135 - mean_absolute_error: 0.0886 - val_loss: 0.0107 - val_mean_absolute_error: 0.0683\n",
      "Epoch 121/200\n",
      "124/124 [==============================] - 0s 1ms/step - loss: 0.0144 - mean_absolute_error: 0.0884 - val_loss: 0.0128 - val_mean_absolute_error: 0.0690\n",
      "Epoch 122/200\n",
      "124/124 [==============================] - 0s 1ms/step - loss: 0.0137 - mean_absolute_error: 0.0880 - val_loss: 0.0100 - val_mean_absolute_error: 0.0670\n",
      "Epoch 123/200\n",
      "124/124 [==============================] - 0s 1ms/step - loss: 0.0138 - mean_absolute_error: 0.0886 - val_loss: 0.0101 - val_mean_absolute_error: 0.0682\n",
      "Epoch 124/200\n",
      "124/124 [==============================] - 0s 2ms/step - loss: 0.0136 - mean_absolute_error: 0.0874 - val_loss: 0.0102 - val_mean_absolute_error: 0.0664\n",
      "Epoch 125/200\n",
      "124/124 [==============================] - 0s 1ms/step - loss: 0.0128 - mean_absolute_error: 0.0845 - val_loss: 0.0141 - val_mean_absolute_error: 0.0742\n",
      "Epoch 126/200\n",
      "124/124 [==============================] - 0s 1ms/step - loss: 0.0136 - mean_absolute_error: 0.0864 - val_loss: 0.0125 - val_mean_absolute_error: 0.0769\n",
      "Epoch 127/200\n",
      "124/124 [==============================] - 0s 2ms/step - loss: 0.0147 - mean_absolute_error: 0.0870 - val_loss: 0.0123 - val_mean_absolute_error: 0.0712\n",
      "Epoch 128/200\n",
      "124/124 [==============================] - 0s 1ms/step - loss: 0.0129 - mean_absolute_error: 0.0864 - val_loss: 0.0090 - val_mean_absolute_error: 0.0683\n",
      "Epoch 129/200\n",
      "124/124 [==============================] - 0s 1ms/step - loss: 0.0128 - mean_absolute_error: 0.0846 - val_loss: 0.0144 - val_mean_absolute_error: 0.0801\n",
      "Epoch 130/200\n",
      "124/124 [==============================] - 0s 1ms/step - loss: 0.0138 - mean_absolute_error: 0.0881 - val_loss: 0.0133 - val_mean_absolute_error: 0.0709\n",
      "Epoch 131/200\n",
      "124/124 [==============================] - 0s 1ms/step - loss: 0.0138 - mean_absolute_error: 0.0881 - val_loss: 0.0117 - val_mean_absolute_error: 0.0698\n",
      "Epoch 132/200\n",
      "124/124 [==============================] - 0s 1ms/step - loss: 0.0132 - mean_absolute_error: 0.0863 - val_loss: 0.0125 - val_mean_absolute_error: 0.0693\n",
      "Epoch 133/200\n",
      "124/124 [==============================] - 0s 1ms/step - loss: 0.0129 - mean_absolute_error: 0.0838 - val_loss: 0.0149 - val_mean_absolute_error: 0.0730\n",
      "Epoch 134/200\n",
      "124/124 [==============================] - 0s 1ms/step - loss: 0.0137 - mean_absolute_error: 0.0889 - val_loss: 0.0131 - val_mean_absolute_error: 0.0708\n",
      "Epoch 135/200\n",
      "124/124 [==============================] - 0s 2ms/step - loss: 0.0135 - mean_absolute_error: 0.0874 - val_loss: 0.0121 - val_mean_absolute_error: 0.0708\n",
      "Epoch 136/200\n",
      "124/124 [==============================] - 0s 1ms/step - loss: 0.0135 - mean_absolute_error: 0.0873 - val_loss: 0.0147 - val_mean_absolute_error: 0.0814\n",
      "Epoch 137/200\n",
      "124/124 [==============================] - 0s 1ms/step - loss: 0.0140 - mean_absolute_error: 0.0880 - val_loss: 0.0107 - val_mean_absolute_error: 0.0709\n",
      "Epoch 138/200\n",
      "124/124 [==============================] - 0s 1ms/step - loss: 0.0135 - mean_absolute_error: 0.0849 - val_loss: 0.0108 - val_mean_absolute_error: 0.0712\n",
      "Epoch 139/200\n",
      "124/124 [==============================] - 0s 1ms/step - loss: 0.0130 - mean_absolute_error: 0.0853 - val_loss: 0.0137 - val_mean_absolute_error: 0.0733\n",
      "Epoch 140/200\n",
      "124/124 [==============================] - 0s 1ms/step - loss: 0.0137 - mean_absolute_error: 0.0884 - val_loss: 0.0122 - val_mean_absolute_error: 0.0707\n",
      "Epoch 141/200\n",
      "124/124 [==============================] - 0s 1ms/step - loss: 0.0134 - mean_absolute_error: 0.0850 - val_loss: 0.0112 - val_mean_absolute_error: 0.0698\n",
      "Epoch 142/200\n",
      "124/124 [==============================] - 0s 1ms/step - loss: 0.0130 - mean_absolute_error: 0.0870 - val_loss: 0.0153 - val_mean_absolute_error: 0.0802\n",
      "Epoch 143/200\n",
      "124/124 [==============================] - 0s 1ms/step - loss: 0.0127 - mean_absolute_error: 0.0864 - val_loss: 0.0154 - val_mean_absolute_error: 0.0755\n",
      "Epoch 144/200\n",
      "124/124 [==============================] - 0s 1ms/step - loss: 0.0140 - mean_absolute_error: 0.0869 - val_loss: 0.0146 - val_mean_absolute_error: 0.0745\n",
      "Epoch 145/200\n",
      "124/124 [==============================] - 0s 1ms/step - loss: 0.0131 - mean_absolute_error: 0.0860 - val_loss: 0.0120 - val_mean_absolute_error: 0.0770\n",
      "Epoch 146/200\n",
      "124/124 [==============================] - 0s 2ms/step - loss: 0.0131 - mean_absolute_error: 0.0900 - val_loss: 0.0108 - val_mean_absolute_error: 0.0730\n",
      "Epoch 147/200\n",
      "124/124 [==============================] - 0s 1ms/step - loss: 0.0136 - mean_absolute_error: 0.0875 - val_loss: 0.0106 - val_mean_absolute_error: 0.0730\n",
      "Epoch 148/200\n"
     ]
    },
    {
     "name": "stdout",
     "output_type": "stream",
     "text": [
      "124/124 [==============================] - 0s 1ms/step - loss: 0.0136 - mean_absolute_error: 0.0866 - val_loss: 0.0148 - val_mean_absolute_error: 0.0738\n",
      "Epoch 149/200\n",
      "124/124 [==============================] - 0s 1ms/step - loss: 0.0129 - mean_absolute_error: 0.0865 - val_loss: 0.0195 - val_mean_absolute_error: 0.0802\n",
      "Epoch 150/200\n",
      "124/124 [==============================] - 0s 2ms/step - loss: 0.0131 - mean_absolute_error: 0.0863 - val_loss: 0.0114 - val_mean_absolute_error: 0.0723\n",
      "Epoch 151/200\n",
      "124/124 [==============================] - 0s 1ms/step - loss: 0.0127 - mean_absolute_error: 0.0845 - val_loss: 0.0102 - val_mean_absolute_error: 0.0729\n",
      "Epoch 152/200\n",
      "124/124 [==============================] - 0s 1ms/step - loss: 0.0130 - mean_absolute_error: 0.0882 - val_loss: 0.0122 - val_mean_absolute_error: 0.0730\n",
      "Epoch 153/200\n",
      "124/124 [==============================] - 0s 1ms/step - loss: 0.0122 - mean_absolute_error: 0.0830 - val_loss: 0.0105 - val_mean_absolute_error: 0.0720\n",
      "Epoch 154/200\n",
      "124/124 [==============================] - 0s 1ms/step - loss: 0.0127 - mean_absolute_error: 0.0866 - val_loss: 0.0147 - val_mean_absolute_error: 0.0796\n",
      "Epoch 155/200\n",
      "124/124 [==============================] - 0s 1ms/step - loss: 0.0124 - mean_absolute_error: 0.0852 - val_loss: 0.0110 - val_mean_absolute_error: 0.0695\n",
      "Epoch 156/200\n",
      "124/124 [==============================] - 0s 1ms/step - loss: 0.0129 - mean_absolute_error: 0.0839 - val_loss: 0.0117 - val_mean_absolute_error: 0.0754\n",
      "Epoch 157/200\n",
      "124/124 [==============================] - 0s 1ms/step - loss: 0.0120 - mean_absolute_error: 0.0844 - val_loss: 0.0183 - val_mean_absolute_error: 0.0889\n",
      "Epoch 158/200\n",
      "124/124 [==============================] - 0s 1ms/step - loss: 0.0135 - mean_absolute_error: 0.0888 - val_loss: 0.0130 - val_mean_absolute_error: 0.0747\n",
      "Epoch 159/200\n",
      "124/124 [==============================] - 0s 1ms/step - loss: 0.0133 - mean_absolute_error: 0.0869 - val_loss: 0.0149 - val_mean_absolute_error: 0.0755\n",
      "Epoch 160/200\n",
      "124/124 [==============================] - 0s 1ms/step - loss: 0.0121 - mean_absolute_error: 0.0831 - val_loss: 0.0120 - val_mean_absolute_error: 0.0715\n",
      "Epoch 161/200\n",
      "124/124 [==============================] - 0s 1ms/step - loss: 0.0132 - mean_absolute_error: 0.0859 - val_loss: 0.0116 - val_mean_absolute_error: 0.0742\n",
      "Epoch 162/200\n",
      "124/124 [==============================] - 0s 1ms/step - loss: 0.0129 - mean_absolute_error: 0.0847 - val_loss: 0.0108 - val_mean_absolute_error: 0.0733\n",
      "Epoch 163/200\n",
      "124/124 [==============================] - 0s 1ms/step - loss: 0.0133 - mean_absolute_error: 0.0861 - val_loss: 0.0111 - val_mean_absolute_error: 0.0747\n",
      "Epoch 164/200\n",
      "124/124 [==============================] - 0s 1ms/step - loss: 0.0119 - mean_absolute_error: 0.0803 - val_loss: 0.0121 - val_mean_absolute_error: 0.0727\n",
      "Epoch 165/200\n",
      "124/124 [==============================] - 0s 1ms/step - loss: 0.0121 - mean_absolute_error: 0.0840 - val_loss: 0.0152 - val_mean_absolute_error: 0.0860\n",
      "Epoch 166/200\n",
      "124/124 [==============================] - 0s 1ms/step - loss: 0.0125 - mean_absolute_error: 0.0858 - val_loss: 0.0152 - val_mean_absolute_error: 0.0772\n",
      "Epoch 167/200\n",
      "124/124 [==============================] - 0s 1ms/step - loss: 0.0125 - mean_absolute_error: 0.0839 - val_loss: 0.0156 - val_mean_absolute_error: 0.0767\n",
      "Epoch 168/200\n",
      "124/124 [==============================] - 0s 2ms/step - loss: 0.0123 - mean_absolute_error: 0.0826 - val_loss: 0.0135 - val_mean_absolute_error: 0.0726\n",
      "Epoch 169/200\n",
      "124/124 [==============================] - 0s 1ms/step - loss: 0.0113 - mean_absolute_error: 0.0810 - val_loss: 0.0124 - val_mean_absolute_error: 0.0805\n",
      "Epoch 170/200\n",
      "124/124 [==============================] - 0s 2ms/step - loss: 0.0130 - mean_absolute_error: 0.0855 - val_loss: 0.0137 - val_mean_absolute_error: 0.0753\n",
      "Epoch 171/200\n",
      "124/124 [==============================] - 0s 1ms/step - loss: 0.0124 - mean_absolute_error: 0.0890 - val_loss: 0.0147 - val_mean_absolute_error: 0.0812\n",
      "Epoch 172/200\n",
      "124/124 [==============================] - 0s 1ms/step - loss: 0.0129 - mean_absolute_error: 0.0846 - val_loss: 0.0121 - val_mean_absolute_error: 0.0722\n",
      "Epoch 173/200\n",
      "124/124 [==============================] - 0s 1ms/step - loss: 0.0125 - mean_absolute_error: 0.0870 - val_loss: 0.0132 - val_mean_absolute_error: 0.0780\n",
      "Epoch 174/200\n",
      "124/124 [==============================] - 0s 2ms/step - loss: 0.0130 - mean_absolute_error: 0.0857 - val_loss: 0.0181 - val_mean_absolute_error: 0.0795\n",
      "Epoch 175/200\n",
      "124/124 [==============================] - 0s 1ms/step - loss: 0.0128 - mean_absolute_error: 0.0840 - val_loss: 0.0154 - val_mean_absolute_error: 0.0802\n",
      "Epoch 176/200\n",
      "124/124 [==============================] - 0s 1ms/step - loss: 0.0124 - mean_absolute_error: 0.0866 - val_loss: 0.0150 - val_mean_absolute_error: 0.0769\n",
      "Epoch 177/200\n",
      "124/124 [==============================] - 0s 1ms/step - loss: 0.0121 - mean_absolute_error: 0.0829 - val_loss: 0.0149 - val_mean_absolute_error: 0.0780\n",
      "Epoch 178/200\n",
      "124/124 [==============================] - 0s 1ms/step - loss: 0.0134 - mean_absolute_error: 0.0861 - val_loss: 0.0142 - val_mean_absolute_error: 0.0768\n",
      "Epoch 179/200\n",
      "124/124 [==============================] - 0s 1ms/step - loss: 0.0117 - mean_absolute_error: 0.0840 - val_loss: 0.0161 - val_mean_absolute_error: 0.0813\n",
      "Epoch 180/200\n",
      "124/124 [==============================] - 0s 1ms/step - loss: 0.0115 - mean_absolute_error: 0.0842 - val_loss: 0.0124 - val_mean_absolute_error: 0.0764\n",
      "Epoch 181/200\n",
      "124/124 [==============================] - 0s 1ms/step - loss: 0.0126 - mean_absolute_error: 0.0868 - val_loss: 0.0113 - val_mean_absolute_error: 0.0767\n",
      "Epoch 182/200\n",
      "124/124 [==============================] - 0s 1ms/step - loss: 0.0122 - mean_absolute_error: 0.0831 - val_loss: 0.0145 - val_mean_absolute_error: 0.0783\n",
      "Epoch 183/200\n",
      "124/124 [==============================] - 0s 1ms/step - loss: 0.0117 - mean_absolute_error: 0.0845 - val_loss: 0.0141 - val_mean_absolute_error: 0.0784\n",
      "Epoch 184/200\n",
      "124/124 [==============================] - 0s 1ms/step - loss: 0.0120 - mean_absolute_error: 0.0839 - val_loss: 0.0156 - val_mean_absolute_error: 0.0821\n",
      "Epoch 185/200\n",
      "124/124 [==============================] - 0s 1ms/step - loss: 0.0116 - mean_absolute_error: 0.0817 - val_loss: 0.0130 - val_mean_absolute_error: 0.0780\n",
      "Epoch 186/200\n",
      "124/124 [==============================] - 0s 1ms/step - loss: 0.0118 - mean_absolute_error: 0.0843 - val_loss: 0.0123 - val_mean_absolute_error: 0.0761\n",
      "Epoch 187/200\n",
      "124/124 [==============================] - 0s 1ms/step - loss: 0.0112 - mean_absolute_error: 0.0805 - val_loss: 0.0145 - val_mean_absolute_error: 0.0798\n",
      "Epoch 188/200\n",
      "124/124 [==============================] - 0s 1ms/step - loss: 0.0117 - mean_absolute_error: 0.0816 - val_loss: 0.0122 - val_mean_absolute_error: 0.0771\n",
      "Epoch 189/200\n",
      "124/124 [==============================] - 0s 1ms/step - loss: 0.0118 - mean_absolute_error: 0.0842 - val_loss: 0.0124 - val_mean_absolute_error: 0.0780\n",
      "Epoch 190/200\n",
      "124/124 [==============================] - 0s 1ms/step - loss: 0.0122 - mean_absolute_error: 0.0855 - val_loss: 0.0128 - val_mean_absolute_error: 0.0758\n",
      "Epoch 191/200\n",
      "124/124 [==============================] - 0s 1ms/step - loss: 0.0114 - mean_absolute_error: 0.0833 - val_loss: 0.0118 - val_mean_absolute_error: 0.0771\n",
      "Epoch 192/200\n",
      "124/124 [==============================] - 0s 1ms/step - loss: 0.0125 - mean_absolute_error: 0.0864 - val_loss: 0.0182 - val_mean_absolute_error: 0.0817\n",
      "Epoch 193/200\n",
      "124/124 [==============================] - 0s 2ms/step - loss: 0.0111 - mean_absolute_error: 0.0797 - val_loss: 0.0142 - val_mean_absolute_error: 0.0776\n",
      "Epoch 194/200\n",
      "124/124 [==============================] - 0s 1ms/step - loss: 0.0116 - mean_absolute_error: 0.0830 - val_loss: 0.0191 - val_mean_absolute_error: 0.0839\n",
      "Epoch 195/200\n",
      "124/124 [==============================] - 0s 1ms/step - loss: 0.0117 - mean_absolute_error: 0.0846 - val_loss: 0.0126 - val_mean_absolute_error: 0.0769\n",
      "Epoch 196/200\n",
      "124/124 [==============================] - 0s 1ms/step - loss: 0.0125 - mean_absolute_error: 0.0853 - val_loss: 0.0140 - val_mean_absolute_error: 0.0761\n",
      "Epoch 197/200\n"
     ]
    },
    {
     "name": "stdout",
     "output_type": "stream",
     "text": [
      "124/124 [==============================] - 0s 1ms/step - loss: 0.0120 - mean_absolute_error: 0.0818 - val_loss: 0.0125 - val_mean_absolute_error: 0.0760\n",
      "Epoch 198/200\n",
      "124/124 [==============================] - 0s 2ms/step - loss: 0.0115 - mean_absolute_error: 0.0791 - val_loss: 0.0154 - val_mean_absolute_error: 0.0824\n",
      "Epoch 199/200\n",
      "124/124 [==============================] - 0s 1ms/step - loss: 0.0117 - mean_absolute_error: 0.0841 - val_loss: 0.0111 - val_mean_absolute_error: 0.0777\n",
      "Epoch 200/200\n",
      "124/124 [==============================] - 0s 1ms/step - loss: 0.0123 - mean_absolute_error: 0.0872 - val_loss: 0.0172 - val_mean_absolute_error: 0.0844\n"
     ]
    },
    {
     "data": {
      "text/plain": [
       "<keras.callbacks.History at 0x1e026653f70>"
      ]
     },
     "execution_count": 11,
     "metadata": {},
     "output_type": "execute_result"
    }
   ],
   "source": [
    "model.fit(x_train_normilized, y_train_normilized, batch_size=1, epochs=180, validation_data=(x_test_normilized, y_test_normilized))"
   ]
  },
  {
   "cell_type": "code",
   "execution_count": 12,
   "id": "8090afbd",
   "metadata": {},
   "outputs": [
    {
     "name": "stdout",
     "output_type": "stream",
     "text": [
      "1/1 [==============================] - 0s 89ms/step\n",
      "Mean test error: 23.85%\n"
     ]
    }
   ],
   "source": [
    "print(f'Mean test error: {round(round(metrics.mean_absolute_error(scaler.inverse_transform(y_test_normilized), scaler.inverse_transform(model.predict(x_test_normilized))), 2)*100/round(test_y.mean(), 2), 2)}%')"
   ]
  },
  {
   "cell_type": "code",
   "execution_count": 13,
   "id": "70b7f2ed",
   "metadata": {
    "scrolled": false
   },
   "outputs": [
    {
     "name": "stdout",
     "output_type": "stream",
     "text": [
      "4/4 [==============================] - 0s 1ms/step\n",
      "Mean train error: 19.54%\n"
     ]
    }
   ],
   "source": [
    "print(f'Mean train error: {round(round(metrics.mean_absolute_error(scaler.inverse_transform(y_train_normilized), scaler.inverse_transform(model.predict(x_train_normilized))), 2)*100/round(train_y.mean(), 2), 2)}%')"
   ]
  },
  {
   "cell_type": "code",
   "execution_count": 14,
   "id": "3510ba11",
   "metadata": {},
   "outputs": [
    {
     "name": "stdout",
     "output_type": "stream",
     "text": [
      "INFO:tensorflow:Assets written to: C:/Users/Эдуард/Desktop/задание кафедры/models/model10\\assets\n"
     ]
    }
   ],
   "source": [
    "model.save('C:/Users/Эдуард/Desktop/задание кафедры/models/model10')"
   ]
  },
  {
   "cell_type": "code",
   "execution_count": 15,
   "id": "a4344ef9",
   "metadata": {},
   "outputs": [
    {
     "data": {
      "text/plain": [
       "187.00000000000003"
      ]
     },
     "execution_count": 15,
     "metadata": {},
     "output_type": "execute_result"
    }
   ],
   "source": [
    "scaler.inverse_transform(y_test_normilized[0:1])[0][0]"
   ]
  },
  {
   "cell_type": "code",
   "execution_count": 16,
   "id": "9f5e86bc",
   "metadata": {},
   "outputs": [
    {
     "name": "stdout",
     "output_type": "stream",
     "text": [
      "1/1 [==============================] - 0s 17ms/step\n"
     ]
    },
    {
     "data": {
      "text/plain": [
       "159.79848"
      ]
     },
     "execution_count": 16,
     "metadata": {},
     "output_type": "execute_result"
    }
   ],
   "source": [
    "scaler.inverse_transform(model.predict(x_test_normilized[0:1]))[0][0]"
   ]
  }
 ],
 "metadata": {
  "kernelspec": {
   "display_name": "Python 3 (ipykernel)",
   "language": "python",
   "name": "python3"
  },
  "language_info": {
   "codemirror_mode": {
    "name": "ipython",
    "version": 3
   },
   "file_extension": ".py",
   "mimetype": "text/x-python",
   "name": "python",
   "nbconvert_exporter": "python",
   "pygments_lexer": "ipython3",
   "version": "3.10.0"
  }
 },
 "nbformat": 4,
 "nbformat_minor": 5
}
